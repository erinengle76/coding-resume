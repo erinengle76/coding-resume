{
 "cells": [
  {
   "cell_type": "markdown",
   "metadata": {},
   "source": [
    "### <b>Assignment 1 - Part 1 - C263H </b>\n",
    "##### <b>Student</b>: Erin Jones\n",
    "##### <b>Deadline</b>: 9/7/2023 (48 hr grace period)\n",
    "##### <b>Last Edit Made</b>: 9/9/2023\n",
    "\n",
    "The code below produces answers to questions 1, 2, 3 & 4 of assignment 1 (part 1) in C263H. For ease of grading Q1-3, the answers are listed here, but are also printed out below the cell containing the calculations.\n",
    "\n",
    "##### <b>Question 1</b>\n",
    "> * The random graph has 58 nodes and 293 links\n",
    "> * The acquaintances graph has 53 nodes and 122 links\n",
    "##### <b>Question 2</b>\n",
    "> * Average degree of the random graph is = 10.10344827586207\n",
    "> * Average degree of the acquaintances graph is = 4.60377358490566\n",
    "##### <b>Question 3</b>\n",
    "> * The maximum degree of the random graph is 15. The student node ID(s) associated with the maximum degree is/are: [11]\n",
    "> * The maximum degree of the acquaintances graph is 10. The student node ID(s) associated with the maximum degree is/are: [46, 24]\n",
    "##### <b>Question 4</b>\n",
    "> * See graph with both degree histograms below\n",
    "\n"
   ]
  },
  {
   "cell_type": "code",
   "execution_count": 1,
   "metadata": {},
   "outputs": [],
   "source": [
    "# IMPORTS\n",
    "import pandas as pd\n",
    "import networkx as nx\n",
    "import numpy as np\n",
    "import matplotlib.pyplot as plt\n",
    "\n",
    "# READ IN DATA\n",
    "# Note - Data must be in same dir as notebook!\n",
    "nodez = pd.read_csv(\"nodes_c263h.csv\")\n",
    "rand_nodez = pd.read_csv(\"c263h_links_random.csv\")\n",
    "acq_nodez = pd.read_csv(\"ce263h_links_acquaintances.csv\")"
   ]
  },
  {
   "cell_type": "code",
   "execution_count": 2,
   "metadata": {},
   "outputs": [
    {
     "name": "stdout",
     "output_type": "stream",
     "text": [
      "The random graph has 58 nodes and 293 links\n",
      "Average degree of the random graph is = 10.10344827586207\n",
      "The maximum degree of the random graph is 15. The student node ID(s) associated with the maximum degree is/are: [11]\n"
     ]
    }
   ],
   "source": [
    "# Create and analyze undirected graph from the random links csv\n",
    "\n",
    "g_rand = nx.Graph()\n",
    "\n",
    "# Make graph from dataframe\n",
    "for index, row in rand_nodez.iterrows():\n",
    "    source_node = row['source']\n",
    "    target_node = row['target']\n",
    "    if source_node != target_node:\n",
    "        g_rand.add_edge(source_node, target_node)\n",
    "\n",
    "# number of nodes, number of edges/links, average degree of graph\n",
    "rand_node_count = g_rand.number_of_nodes()\n",
    "rand_link_count = g_rand.number_of_edges()\n",
    "rand_avg_degree = np.mean(list(dict(g_rand.degree()).values()))\n",
    "\n",
    "# pull node(s) with maximum degree\n",
    "max_degree = max(g_rand.degree, key=lambda x: x[1])[1]\n",
    "nodes_with_max_degree = [node for node in g_rand.nodes if g_rand.degree[node] == max_degree]\n",
    "\n",
    "# print results\n",
    "print(f\"The random graph has {rand_node_count} nodes and {rand_link_count} links\")\n",
    "print (f\"Average degree of the random graph is = {rand_avg_degree}\")\n",
    "print(f\"The maximum degree of the random graph is {max_degree}. The student node ID(s) associated with the maximum degree is/are: {nodes_with_max_degree}\")\n"
   ]
  },
  {
   "cell_type": "code",
   "execution_count": 3,
   "metadata": {},
   "outputs": [
    {
     "name": "stdout",
     "output_type": "stream",
     "text": [
      "The acquaintances graph has 53 nodes and 122 links\n",
      "Average degree of the acquaintances graph is = 4.60377358490566\n",
      "The maximum degree of the acquaintances graph is 10. The student node ID(s) associated with the maximum degree is/are: [46, 24]\n"
     ]
    }
   ],
   "source": [
    "# Create and analyze an undirected graph from the acquaintances links csv\n",
    "g_acq = nx.Graph()\n",
    "\n",
    "# Make graph from dataframe\n",
    "for index, row in acq_nodez.iterrows():\n",
    "    source_node = row['source ']\n",
    "    target_node = row['target']\n",
    "    if source_node != target_node:\n",
    "        g_acq.add_edge(source_node, target_node)\n",
    "\n",
    "# number of nodes, number of edges/links, average degree of graph\n",
    "acq_node_count = g_acq.number_of_nodes()\n",
    "acq_link_count = g_acq.number_of_edges()\n",
    "acq_avg_degree = np.mean(list(dict(g_acq.degree()).values()))\n",
    "\n",
    "# pull node(s) with maximum degree\n",
    "max_degree = max(g_acq.degree, key=lambda x: x[1])[1]\n",
    "nodes_with_max_degree = [node for node in g_acq.nodes if g_acq.degree[node] == max_degree]\n",
    "\n",
    "# print results\n",
    "print(f\"The acquaintances graph has {acq_node_count} nodes and {acq_link_count} links\")\n",
    "print (f\"Average degree of the acquaintances graph is = {acq_avg_degree}\")\n",
    "print(f\"The maximum degree of the acquaintances graph is {max_degree}. The student node ID(s) associated with the maximum degree is/are: {nodes_with_max_degree}\")"
   ]
  },
  {
   "cell_type": "code",
   "execution_count": 4,
   "metadata": {},
   "outputs": [
    {
     "data": {
      "image/png": "[encoded data removed]",
      "text/plain": [
       "<Figure size 1000x400 with 2 Axes>"
      ]
     },
     "metadata": {},
     "output_type": "display_data"
    }
   ],
   "source": [
    "# Create Plot!\n",
    "\n",
    "degree_sequence_rand = sorted((d for n, d in g_rand.degree()), reverse=True)\n",
    "degree_sequence_acq = sorted((d for n, d in g_acq.degree()), reverse=True)\n",
    "\n",
    "# max value from the listed degrees in the sequence\n",
    "dmax_rand = max(degree_sequence_rand)\n",
    "dmax_acq = max(degree_sequence_acq)\n",
    "\n",
    "# instatiate a matplotlib figure\n",
    "fig = plt.figure(\"Degree Histograms\", figsize=(10, 4))\n",
    "\n",
    "# Create a gridspec for adding subplots of different sizes\n",
    "axgrid = fig.add_gridspec(3, 4)\n",
    "\n",
    "# random network degree histogram\n",
    "ax1 = fig.add_subplot(axgrid[:, :2])\n",
    "ax1.bar(*np.unique(degree_sequence_rand, return_counts=True))\n",
    "ax1.set_title(\"Random Network Degree histogram\")\n",
    "ax1.set_xlabel(\"Degree\")\n",
    "ax1.set_ylabel(\"# of Nodes\")\n",
    "\n",
    "# acquaintances network degree histogram\n",
    "ax2 = fig.add_subplot(axgrid[:, 2:])\n",
    "ax2.bar(*np.unique(degree_sequence_acq, return_counts=True))\n",
    "ax2.set_title(\"Acquaintance Network Degree histogram\")\n",
    "ax2.set_xlabel(\"Degree\")\n",
    "ax2.set_ylabel(\"# of Nodes\")\n",
    "\n",
    "fig.tight_layout()\n",
    "plt.show()"
   ]
  }
 ],
 "metadata": {
  "kernelspec": {
   "display_name": "Python 3 (ipykernel)",
   "language": "python",
   "name": "python3"
  },
  "language_info": {
   "codemirror_mode": {
    "name": "ipython",
    "version": 3
   },
   "file_extension": ".py",
   "mimetype": "text/x-python",
   "name": "python",
   "nbconvert_exporter": "python",
   "pygments_lexer": "ipython3",
   "version": "3.11.4"
  }
 },
 "nbformat": 4,
 "nbformat_minor": 2
}
